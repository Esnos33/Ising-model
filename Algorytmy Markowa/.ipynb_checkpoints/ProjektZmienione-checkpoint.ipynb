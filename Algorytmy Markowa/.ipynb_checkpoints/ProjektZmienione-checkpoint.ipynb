{
 "cells": [
  {
   "cell_type": "markdown",
   "id": "diB6cB7irrpn",
   "metadata": {
    "id": "diB6cB7irrpn"
   },
   "source": [
    "<!-- # **SYMULACJA MODELU ISINGA**\n",
    "Oskar Werner, Jan Wojtas -->"
   ]
  },
  {
   "cell_type": "code",
   "execution_count": 1,
   "id": "61290627-1bba-41e9-a341-db99a876a86d",
   "metadata": {
    "id": "61290627-1bba-41e9-a341-db99a876a86d"
   },
   "outputs": [],
   "source": [
    "import pandas as pd\n",
    "import numpy as np\n",
    "from numpy.random import random, randint\n",
    "import matplotlib.pyplot as plt\n",
    "from numba import njit\n",
    "from scipy.ndimage import convolve, generate_binary_structure\n",
    "import time\n",
    "from itertools import chain"
   ]
  },
  {
   "cell_type": "code",
   "execution_count": 2,
   "id": "f83792d2-69b8-4e37-8cf2-e70210e41ebf",
   "metadata": {
    "executionInfo": {
     "elapsed": 203,
     "status": "ok",
     "timestamp": 1653515599569,
     "user": {
      "displayName": "Jan Wojtas",
      "userId": "03044917018436081502"
     },
     "user_tz": -120
    },
    "id": "6oy13mRLIft5",
    "tags": []
   },
   "outputs": [],
   "source": [
    "def num_to_matrix(num,N): \n",
    "    '''\n",
    "    funkcja dokonuje zamianę liczby z systemu dziesiętnego na dwójkowy, \n",
    "    a następnie konstruuje odpowiednią macierz (reprezentująca stan modelu Isinga)\n",
    "    args:\n",
    "    - num: liczba zapisana w systemie dziesiętnym\n",
    "    - N: wymiar wyjściowej macierzy\n",
    "    '''\n",
    "    n2 = N**2\n",
    "    x = bin(num)[2:]\n",
    "\n",
    "    if len(x)<n2:\n",
    "        y = (n2-len(x))*'0' + x\n",
    "    else:\n",
    "        y = x\n",
    "\n",
    "    matrix = [int(char) for char in y]\n",
    "    matrix = np.array(matrix).reshape(N,N)\n",
    "\n",
    "    return(matrix)\n",
    "\n",
    "# ------------------------------------------------\n",
    "\n",
    "def binary_to_decimal(lista_binarna):\n",
    "    num = 0\n",
    "    for value in lista_binarna:\n",
    "        num = 2 * num + value\n",
    "    return num\n",
    "\n",
    "# ------------------------------------------------\n",
    "\n",
    "def get_hamiltonian(matrix):\n",
    "    '''\n",
    "    funkcja oblicza hamiltonian konkretnego stanu modelu Isinga, reprezentowanego przez macierz (dla kraty)\n",
    "    args:\n",
    "    - matrix: macierz spinów reprezentująca stan modelu Isinga\n",
    "    '''\n",
    "\n",
    "    kern = np.array([\n",
    "        [0,1,0],\n",
    "        [1,0,1],\n",
    "        [0,1,0]\n",
    "    ])\n",
    "\n",
    "    return((matrix * convolve(matrix, kern, mode = 'constant', cval = 0)).sum())\n",
    "\n",
    "# ------------------------------------------------\n",
    "\n",
    "def get_hamiltonian2(matrix):\n",
    "    '''\n",
    "    funkcja oblicza hamiltonian konkretnego stanu modelu Isinga, reprezentowanego przez macierz (dla grafu pełnego)\n",
    "    args:\n",
    "    - matrix: macierz spinów reprezentująca stan modelu Isinga\n",
    "    '''\n",
    "\n",
    "    spin_up_count = matrix[matrix == 1].sum()\n",
    "    n2 =  (matrix.shape[0])**2\n",
    "    if spin_up_count == 0 or spin_up_count == n2:\n",
    "        energy = (n2)*(n2-1)/2\n",
    "    else:\n",
    "        energy = spin_up_count*(spin_up_count-1)/2 + (n2 - spin_up_count)*(n2 - spin_up_count-1)/2 - (n2 - spin_up_count)*spin_up_count\n",
    "    return energy\n",
    "\n",
    "# ------------------------------------------------\n",
    "\n",
    "def get_equilibrium_distribution(N,beta,graph_type):\n",
    "    '''\n",
    "    funkcja wyznacza teoretyczny rozkład stacjonarny modelu Isinga\n",
    "    args:\n",
    "    - N: wymiar macierzy spinów \n",
    "    - beta: współczynnik 1/kT, gdzie T jest temperaturą rozpatrywanego rezerwuaru termicznego\n",
    "    - graph_type: argument określający rodzaj modelu. Przyjmuje wartości 'krata' dla kraty i 'pelny' dla grafu pełnego - \n",
    "    '''\n",
    "\n",
    "\n",
    "    if graph_type == 'krata':\n",
    "        g = get_hamiltonian\n",
    "    elif graph_type == 'pelny':\n",
    "        g = get_hamiltonian2\n",
    "    n = 2**(N*N)\n",
    "    pi_theoretical = np.zeros(n)\n",
    "    Z = 0\n",
    "\n",
    "    for i in range(n):\n",
    "        matrix = num_to_matrix(i,N)\n",
    "        matrix[matrix == 0] = -1\n",
    "        pi_theoretical[i] = np.exp(beta * g(matrix))\n",
    "        Z += pi_theoretical[i]\n",
    "\n",
    "    pi_theoretical = 1/Z * np.array(pi_theoretical)\n",
    "\n",
    "\n",
    "    return pi_theoretical"
   ]
  },
  {
   "cell_type": "markdown",
   "id": "EpPqQ9DtiLRE",
   "metadata": {
    "id": "EpPqQ9DtiLRE"
   },
   "source": [
    "# Symulacja dla **kraty**"
   ]
  },
  {
   "cell_type": "markdown",
   "id": "Zxmn08HridT5",
   "metadata": {
    "id": "Zxmn08HridT5"
   },
   "source": [
    "## Funkcja akceptacji algorytmu Proppa - Wilsona"
   ]
  },
  {
   "cell_type": "code",
   "execution_count": 3,
   "id": "ebccac90-ef2d-4471-a160-5cd645c91096",
   "metadata": {
    "id": "ebccac90-ef2d-4471-a160-5cd645c91096"
   },
   "outputs": [],
   "source": [
    "def update(beta, x, y, krata):\n",
    "    '''\n",
    "    funkcja wyznacza wartość funkcji akceptacji próbnika Gibbsa, wykorzystywanego w algorytmie Proppa-Wilsona (krata)\n",
    "    args:\n",
    "    - beta: współczynnik 1/kT, gdzie T jest temperaturą rozpatrywanego rezerwuaru termicznego\n",
    "    - x: współrzędna x-owa w macierzy spinów\n",
    "    - y: współrzędna y-owa w macierzy spinów\n",
    "    - krata: macierz spinów \n",
    "    '''\n",
    "\n",
    "    delta = 0\n",
    "    if x>0:\n",
    "        delta += krata[x-1,y]\n",
    "    if x<N-1:\n",
    "        delta += krata[x+1,y]\n",
    "    if y>0:\n",
    "        delta += krata[x,y-1]\n",
    "    if y<N-1:\n",
    "        delta += krata[x,y+1]\n",
    "\n",
    "    return(np.exp(2*beta*(delta))/(np.exp(2*beta*(delta))+1))"
   ]
  },
  {
   "cell_type": "markdown",
   "id": "D0Y5PmRKixeD",
   "metadata": {
    "id": "D0Y5PmRKixeD"
   },
   "source": [
    "## Pojedyncza symulacja ***modelu Isinga*** z wykorzystaniem algorytmu Proppa - Wilsona"
   ]
  },
  {
   "cell_type": "markdown",
   "id": "NMO4cwnKmE8u",
   "metadata": {
    "id": "NMO4cwnKmE8u"
   },
   "source": [
    "### Parametry:"
   ]
  },
  {
   "cell_type": "code",
   "execution_count": 4,
   "id": "2RfU-fuxmAFt",
   "metadata": {
    "id": "2RfU-fuxmAFt"
   },
   "outputs": [],
   "source": [
    "N = 40\n",
    "beta = 0.2\n",
    "\n",
    "KrataP = np.ones((N,N))\n",
    "KrataN = -1*np.ones((N,N))"
   ]
  },
  {
   "cell_type": "markdown",
   "id": "CmSbEnUBmQHm",
   "metadata": {
    "id": "CmSbEnUBmQHm"
   },
   "source": [
    "### Algorytm:"
   ]
  },
  {
   "cell_type": "code",
   "execution_count": 5,
   "id": "5b67394d-5038-438c-a1a7-9af7ff0b8270",
   "metadata": {
    "colab": {
     "base_uri": "https://localhost:8080/"
    },
    "executionInfo": {
     "elapsed": 1474,
     "status": "ok",
     "timestamp": 1653505437379,
     "user": {
      "displayName": "Jan Wojtas",
      "userId": "03044917018436081502"
     },
     "user_tz": -120
    },
    "id": "5b67394d-5038-438c-a1a7-9af7ff0b8270",
    "outputId": "00d8f38d-cc1d-4a00-9037-b72557e85974",
    "tags": []
   },
   "outputs": [
    {
     "name": "stdout",
     "output_type": "stream",
     "text": [
      "czas: 1.6133201122283936\n"
     ]
    }
   ],
   "source": [
    "start = time.time()\n",
    "\n",
    "rzuty = [random()]\n",
    "\n",
    "while (KrataN == KrataP).all() == False:\n",
    "    for i in range(len(rzuty)):\n",
    "        x, y = randint(0,N,2)\n",
    "        KrataP[x,y] = 1 if rzuty[-(i+1)] < update(beta, x, y, KrataP) else -1\n",
    "        KrataN[x,y] = 1 if rzuty[-(i+1)] < update(beta, x, y, KrataN) else -1\n",
    "    rzuty +=[random() for i in range(len(rzuty))]\n",
    "\n",
    "print('czas:', time.time()-start)"
   ]
  },
  {
   "cell_type": "markdown",
   "id": "f1wGhkHgmYoE",
   "metadata": {
    "id": "f1wGhkHgmYoE"
   },
   "source": [
    "### Grafika wybranego przez algorytm stanu:"
   ]
  },
  {
   "cell_type": "code",
   "execution_count": 6,
   "id": "4518dc3a-8d0e-4730-b30b-4cd3050d38a1",
   "metadata": {
    "colab": {
     "base_uri": "https://localhost:8080/",
     "height": 281
    },
    "executionInfo": {
     "elapsed": 407,
     "status": "ok",
     "timestamp": 1653505439650,
     "user": {
      "displayName": "Jan Wojtas",
      "userId": "03044917018436081502"
     },
     "user_tz": -120
    },
    "id": "4518dc3a-8d0e-4730-b30b-4cd3050d38a1",
    "outputId": "3e406882-9b1f-469c-cc27-b44e5476e262"
   },
   "outputs": [
    {
     "data": {
      "image/png": "[encoded data removed]",
      "text/plain": [
       "<Figure size 432x288 with 1 Axes>"
      ]
     },
     "metadata": {
      "needs_background": "light"
     },
     "output_type": "display_data"
    }
   ],
   "source": [
    "plt.imshow(KrataN)\n",
    "plt.title(str(len(rzuty)))\n",
    "plt.show()"
   ]
  },
  {
   "cell_type": "markdown",
   "id": "79NuTeLwjXYD",
   "metadata": {
    "id": "79NuTeLwjXYD"
   },
   "source": [
    "## Symulacja wielokrotna. Empiryczne wyznaczanie rozkładu stacjonarnego ***modelu Isinga*** w wybranym rezerwuarze termicznym (*eng. heat bath*)"
   ]
  },
  {
   "cell_type": "markdown",
   "id": "-vTL2UD5mwfl",
   "metadata": {
    "id": "-vTL2UD5mwfl"
   },
   "source": [
    "### Parametry:"
   ]
  },
  {
   "cell_type": "code",
   "execution_count": 7,
   "id": "7r57ENP_my30",
   "metadata": {
    "executionInfo": {
     "elapsed": 199,
     "status": "ok",
     "timestamp": 1653515471646,
     "user": {
      "displayName": "Jan Wojtas",
      "userId": "03044917018436081502"
     },
     "user_tz": -120
    },
    "id": "7r57ENP_my30"
   },
   "outputs": [],
   "source": [
    "N = 3\n",
    "beta = 0.05\n",
    "m = 10000\n",
    "pi = [0] * 2**(N*N)"
   ]
  },
  {
   "cell_type": "markdown",
   "id": "CA2TEeU-nn6d",
   "metadata": {
    "id": "CA2TEeU-nn6d"
   },
   "source": [
    "### Algorytm:"
   ]
  },
  {
   "cell_type": "code",
   "execution_count": 8,
   "id": "Rw_fOmMiK6yG",
   "metadata": {
    "colab": {
     "base_uri": "https://localhost:8080/"
    },
    "executionInfo": {
     "elapsed": 26362,
     "status": "ok",
     "timestamp": 1653515631990,
     "user": {
      "displayName": "Jan Wojtas",
      "userId": "03044917018436081502"
     },
     "user_tz": -120
    },
    "id": "Rw_fOmMiK6yG",
    "outputId": "62a2be65-fded-4ea7-e742-3e38fe338f1e"
   },
   "outputs": [
    {
     "name": "stdout",
     "output_type": "stream",
     "text": [
      "10.580334186553955\n"
     ]
    }
   ],
   "source": [
    "start = time.time()\n",
    "\n",
    "for i in range(m):\n",
    "  \n",
    "    rzuty = [random()]\n",
    "    KrataP = np.ones((N,N))\n",
    "    KrataN = -1*np.ones((N,N))\n",
    "\n",
    "    while (KrataN == KrataP).all() == False:\n",
    "\n",
    "        for i in range(len(rzuty)):\n",
    "            x, y = randint(0,N,2)\n",
    "            KrataP[x,y] = 1 if rzuty[-(i+1)] < update(beta, x, y, KrataP) else -1\n",
    "            KrataN[x,y] = 1 if rzuty[-(i+1)] < update(beta, x, y, KrataN) else -1\n",
    "\n",
    "        rzuty += [random() for i in range(len(rzuty))]\n",
    "\n",
    "\n",
    "    KrataP[KrataP == -1] = 0\n",
    "    lista_binarna = np.ndarray.tolist(KrataP)\n",
    "    lista_binarna = list(chain(*lista_binarna))\n",
    "\n",
    "    pi[int(binary_to_decimal(lista_binarna))] +=1\n",
    "\n",
    "print(time.time()-start)"
   ]
  },
  {
   "cell_type": "markdown",
   "id": "4c61120c-b95c-43a2-8af3-408b64bbd1c7",
   "metadata": {},
   "source": [
    "dla 5x5 21 min by tp trwało gdybysmy chcieli 1/100 wartosci rozpatrzyć"
   ]
  },
  {
   "cell_type": "markdown",
   "id": "ru1m_igerRtM",
   "metadata": {
    "id": "ru1m_igerRtM"
   },
   "source": [
    "### Funkcje pomocnicze:"
   ]
  },
  {
   "cell_type": "markdown",
   "id": "3c2befc5-5e17-4744-9699-58cbeda76796",
   "metadata": {},
   "source": [
    "## Zależność tempereatury od czasu wykonania algorytmu"
   ]
  },
  {
   "cell_type": "code",
   "execution_count": 38,
   "id": "5f0fcc01-b86f-4509-a948-8cc805867879",
   "metadata": {},
   "outputs": [],
   "source": [
    "N = 3\n",
    "beta = np.arange(0,0.45,step = 0.001)\n",
    "czas = [0]*beta.size\n",
    "m = 1000"
   ]
  },
  {
   "cell_type": "code",
   "execution_count": 39,
   "id": "dcdf13fb-60a9-41ef-a8ee-cbc3bfa177e2",
   "metadata": {
    "tags": []
   },
   "outputs": [],
   "source": [
    "index = 0\n",
    "for b in beta:\n",
    "    for i in range(m):\n",
    "        start = time.time()\n",
    "        rzuty = [random()]\n",
    "        KrataP = np.ones((N,N))\n",
    "        KrataN = -1*np.ones((N,N))\n",
    "\n",
    "        while (KrataN == KrataP).all() == False:\n",
    "\n",
    "            for i in range(len(rzuty)):\n",
    "                x, y = randint(0,N,2)\n",
    "                KrataP[x,y] = 1 if rzuty[-(i+1)] < update(b, x, y, KrataP) else -1\n",
    "                KrataN[x,y] = 1 if rzuty[-(i+1)] < update(b, x, y, KrataN) else -1\n",
    "\n",
    "            rzuty += [random() for i in range(len(rzuty))]\n",
    "        t = time.time()-start\n",
    "        czas[index] += t\n",
    "    index += 1"
   ]
  },
  {
   "cell_type": "code",
   "execution_count": 42,
   "id": "9c471bde-3f34-44fa-af25-b7448b0984e1",
   "metadata": {},
   "outputs": [],
   "source": [
    "# np.savetxt('Czas.txt', czas)"
   ]
  },
  {
   "cell_type": "code",
   "execution_count": 41,
   "id": "d087c9dd-34e8-4103-8db0-3762338ffdfd",
   "metadata": {},
   "outputs": [
    {
     "data": {
      "text/plain": [
       "[<matplotlib.lines.Line2D at 0x28f70337820>]"
      ]
     },
     "execution_count": 41,
     "metadata": {},
     "output_type": "execute_result"
    },
    {
     "data": {
      "image/png": "[encoded data removed]",
      "text/plain": [
       "<Figure size 432x288 with 1 Axes>"
      ]
     },
     "metadata": {
      "needs_background": "light"
     },
     "output_type": "display_data"
    }
   ],
   "source": [
    "plt.plot(beta,(1/m) * np.array(czas))"
   ]
  },
  {
   "cell_type": "markdown",
   "id": "b75337ba-8e1b-4837-8108-92b88e806357",
   "metadata": {},
   "source": [
    "Dla macierzy 5 x 5 robi się 30 min około XD"
   ]
  },
  {
   "cell_type": "markdown",
   "id": "O_ETUa_7rVvh",
   "metadata": {
    "id": "O_ETUa_7rVvh"
   },
   "source": [
    "### Wykresy porównawcze - empiryczny i teoretyczny rozkład stacjonarny"
   ]
  },
  {
   "cell_type": "code",
   "execution_count": 45,
   "id": "15abdba6-2529-4d7c-aaa1-4352241ea36d",
   "metadata": {},
   "outputs": [
    {
     "data": {
      "image/png": "[encoded data removed]",
      "text/plain": [
       "<Figure size 1152x576 with 1 Axes>"
      ]
     },
     "metadata": {
      "needs_background": "light"
     },
     "output_type": "display_data"
    }
   ],
   "source": [
    "pi_2 = (1/m*10) * np.array(pi)\n",
    "# pi_theoretical = get_equilibrium_distribution(N = N, beta = beta, graph_type = 'krata')\n",
    "# b, t = min(np.concatenate((pi_2,pi_theoretical))), max(np.concatenate((pi_2,pi_theoretical)))\n",
    "\n",
    "plt.figure(figsize=(16,8))\n",
    "\n",
    "plt.subplot(121)\n",
    "plt.plot(pi_2, '-', color = 'green')\n",
    "plt.title(f'Empiryczny rozkład stacjonarny dla kraty, N = {N}')\n",
    "plt.ylim(b-0.001,t+0.001)\n",
    "\n",
    "# plt.subplot(122)\n",
    "# plt.plot(pi_theoretical, '-', color = 'red')\n",
    "# plt.title(f'Teoretyczny rozkład stacjonarny dla kraty,  N = {N}')\n",
    "# plt.ylim(b-0.001,t+0.001)\n",
    "\n",
    "plt.suptitle('proba')\n",
    "plt.show()"
   ]
  },
  {
   "cell_type": "markdown",
   "id": "D4y9B2-yhsnJ",
   "metadata": {
    "id": "D4y9B2-yhsnJ"
   },
   "source": [
    "# 2. Symulacja dla **grafu pełnego**\n"
   ]
  },
  {
   "cell_type": "markdown",
   "id": "1UDrPzATESWI",
   "metadata": {
    "id": "1UDrPzATESWI"
   },
   "source": [
    "## Funkcja akceptacji algorytmu Proppa-Wilsona"
   ]
  },
  {
   "cell_type": "code",
   "execution_count": null,
   "id": "OTEwIdSRkl90",
   "metadata": {
    "id": "OTEwIdSRkl90"
   },
   "outputs": [],
   "source": [
    "def update2(beta, x, y, graf, energia_grafu):\n",
    "    '''\n",
    "    funkcja wyznacza wartość funkcji akceptacji próbnika Gibbsa, wykorzystywanego w algorytmie Proppa-Wilsona (graf pełny)\n",
    "    args:\n",
    "    - beta: współczynnik 1/kT, gdzie T jest temperaturą rozpatrywanego rezerwuaru termicznego\n",
    "    - x: współrzędna x-owa w macierzy spinów\n",
    "    - y: współrzędna y-owa w macierzy spinów\n",
    "    - graf: macierz spinów \n",
    "    - energia_grafu: suma spinów\n",
    "    '''\n",
    "    delta = energia_grafu - graf[x,y]\n",
    "\n",
    "    return(np.exp(2*beta*(delta))/(np.exp(2*beta*(delta))+1))"
   ]
  },
  {
   "cell_type": "markdown",
   "id": "AmE4h6U9Eiur",
   "metadata": {
    "id": "AmE4h6U9Eiur"
   },
   "source": [
    "## Pojedyncza symulacja ***modelu Isinga*** z wykorzystaniem algorytmu Proppa - Wilsona"
   ]
  },
  {
   "cell_type": "markdown",
   "id": "xLMctxaTEly6",
   "metadata": {
    "id": "xLMctxaTEly6"
   },
   "source": [
    "### Parametry:"
   ]
  },
  {
   "cell_type": "code",
   "execution_count": null,
   "id": "2vlKprtpsQts",
   "metadata": {
    "executionInfo": {
     "elapsed": 2,
     "status": "ok",
     "timestamp": 1653509267296,
     "user": {
      "displayName": "Jan Wojtas",
      "userId": "03044917018436081502"
     },
     "user_tz": -120
    },
    "id": "2vlKprtpsQts"
   },
   "outputs": [],
   "source": [
    "N = 3\n",
    "beta = 0.05\n",
    "\n",
    "KrataP = np.ones((N,N))\n",
    "KrataN = -1*np.ones((N,N))\n",
    "energiaP = N**2\n",
    "energiaN = -N**2"
   ]
  },
  {
   "cell_type": "markdown",
   "id": "Tnkb6nP_EoRu",
   "metadata": {
    "id": "Tnkb6nP_EoRu"
   },
   "source": [
    "### Symulacja:"
   ]
  },
  {
   "cell_type": "code",
   "execution_count": null,
   "id": "B98NPshBsu4M",
   "metadata": {
    "colab": {
     "base_uri": "https://localhost:8080/"
    },
    "executionInfo": {
     "elapsed": 203,
     "status": "ok",
     "timestamp": 1653509273173,
     "user": {
      "displayName": "Jan Wojtas",
      "userId": "03044917018436081502"
     },
     "user_tz": -120
    },
    "id": "B98NPshBsu4M",
    "outputId": "f3b3c0e1-1440-4b44-9b41-2b18c04c1f89"
   },
   "outputs": [],
   "source": [
    "start = time.time()\n",
    "\n",
    "rzuty = [random()]\n",
    "\n",
    "while (KrataN == KrataP).all() == False:\n",
    "    for i in range(len(rzuty)):\n",
    "        x, y = randint(0,N,2)\n",
    "        KrataP_xy = KrataP[x,y]\n",
    "        KrataN_xy = KrataN[x,y]\n",
    "        KrataP[x,y] = 1 if rzuty[-(i+1)] < update2(beta, x, y, KrataP, energiaP) else -1\n",
    "        KrataN[x,y] = 1 if rzuty[-(i+1)] < update2(beta, x, y, KrataN, energiaN) else -1\n",
    "\n",
    "        if KrataP_xy != KrataP[x,y]:\n",
    "            energiaP += 2*KrataP[x,y]\n",
    "        if KrataN_xy != KrataN[x,y]:\n",
    "            energiaN += 2*KrataN[x,y]\n",
    "        \n",
    "    rzuty +=[random() for i in range(len(rzuty))]\n",
    "\n",
    "print('czas:', time.time()-start)"
   ]
  },
  {
   "cell_type": "markdown",
   "id": "jHNPzTs9E6Dp",
   "metadata": {
    "id": "jHNPzTs9E6Dp"
   },
   "source": [
    "### Grafika wybranego przez algorytm stanu"
   ]
  },
  {
   "cell_type": "code",
   "execution_count": null,
   "id": "zoK_gpOcu9HS",
   "metadata": {
    "colab": {
     "base_uri": "https://localhost:8080/",
     "height": 281
    },
    "executionInfo": {
     "elapsed": 214,
     "status": "ok",
     "timestamp": 1653508785901,
     "user": {
      "displayName": "Jan Wojtas",
      "userId": "03044917018436081502"
     },
     "user_tz": -120
    },
    "id": "zoK_gpOcu9HS",
    "outputId": "cad1435d-f117-4258-a65f-2b1667d9e6c0"
   },
   "outputs": [],
   "source": [
    "plt.imshow(KrataN)\n",
    "plt.title(str(len(rzuty)))\n",
    "plt.show()"
   ]
  },
  {
   "cell_type": "markdown",
   "id": "wdvijjf0FAfk",
   "metadata": {
    "id": "wdvijjf0FAfk"
   },
   "source": [
    "## Symulacja wielokrotna. Empiryczne wyznaczanie rozkładu stacjonarnego ***modelu Isinga*** w wybranym rezerwuarze termicznym (*eng. heat bath*)"
   ]
  },
  {
   "cell_type": "markdown",
   "id": "pudrtKnjFSnX",
   "metadata": {
    "id": "pudrtKnjFSnX"
   },
   "source": [
    "### Parametry:"
   ]
  },
  {
   "cell_type": "code",
   "execution_count": null,
   "id": "olBGIlQKzn5q",
   "metadata": {
    "executionInfo": {
     "elapsed": 198,
     "status": "ok",
     "timestamp": 1653516306425,
     "user": {
      "displayName": "Jan Wojtas",
      "userId": "03044917018436081502"
     },
     "user_tz": -120
    },
    "id": "olBGIlQKzn5q"
   },
   "outputs": [],
   "source": [
    "N = 3\n",
    "beta = 0.05\n",
    "m = 10000\n",
    "pi = [0] * 2**(N*N)"
   ]
  },
  {
   "cell_type": "markdown",
   "id": "_IEOjSZ1FU-K",
   "metadata": {
    "id": "_IEOjSZ1FU-K"
   },
   "source": [
    "### Algorytm:"
   ]
  },
  {
   "cell_type": "code",
   "execution_count": null,
   "id": "n7Zz7e1FzuuF",
   "metadata": {
    "colab": {
     "base_uri": "https://localhost:8080/"
    },
    "executionInfo": {
     "elapsed": 18534,
     "status": "ok",
     "timestamp": 1653516368074,
     "user": {
      "displayName": "Jan Wojtas",
      "userId": "03044917018436081502"
     },
     "user_tz": -120
    },
    "id": "n7Zz7e1FzuuF",
    "outputId": "86411ce9-8487-4ee4-9f01-ffc800f4d0f3"
   },
   "outputs": [],
   "source": [
    "start = time.time()\n",
    "\n",
    "for i in range(m):\n",
    "  \n",
    "    rzuty = [random()]\n",
    "    KrataP = np.ones((N,N))\n",
    "    KrataN = -1*np.ones((N,N))\n",
    "    energiaP = N**2\n",
    "    energiaN = -N**2\n",
    "  \n",
    "    while (KrataN == KrataP).all() == False:\n",
    "        for i in range(len(rzuty)):\n",
    "            x, y = randint(0,N,2)\n",
    "            KrataP_xy = KrataP[x,y]\n",
    "            KrataN_xy = KrataN[x,y]\n",
    "            KrataP[x,y] = 1 if rzuty[-(i+1)] < update2(beta, x, y, KrataP, energiaP) else -1\n",
    "            KrataN[x,y] = 1 if rzuty[-(i+1)] < update2(beta, x, y, KrataN, energiaN) else -1\n",
    "\n",
    "            if KrataP_xy != KrataP[x,y]:\n",
    "                energiaP += 2*KrataP[x,y]\n",
    "            if KrataN_xy != KrataN[x,y]:\n",
    "                energiaN += 2*KrataN[x,y]\n",
    "\n",
    "        rzuty +=[random() for i in range(len(rzuty))]\n",
    "\n",
    "\n",
    "    KrataP[KrataP == -1] = 0\n",
    "    lista_binarna = np.ndarray.tolist(KrataP)\n",
    "    lista_binarna = list(chain(*lista_binarna))\n",
    "\n",
    "    pi[int(binary_to_decimal(lista_binarna))] +=1\n",
    "\n",
    "print(time.time()-start)"
   ]
  },
  {
   "cell_type": "markdown",
   "id": "rskl-nWqFYqo",
   "metadata": {
    "id": "rskl-nWqFYqo"
   },
   "source": [
    "### Funkcja pomocnicza (wyznaczanie **Hamiltonianu** dla grafu pełnego)"
   ]
  },
  {
   "cell_type": "code",
   "execution_count": null,
   "id": "uSbkSztt1JSk",
   "metadata": {
    "executionInfo": {
     "elapsed": 196,
     "status": "ok",
     "timestamp": 1653515935914,
     "user": {
      "displayName": "Jan Wojtas",
      "userId": "03044917018436081502"
     },
     "user_tz": -120
    },
    "id": "uSbkSztt1JSk"
   },
   "outputs": [],
   "source": [
    "def get_hamiltonian2(matrix):\n",
    "    '''\n",
    "    funkcja oblicza hamiltonian konkretnego stanu modelu Isinga, reprezentowanego przez macierz (dla grafu pełnego)\n",
    "    args:\n",
    "    - matrix: macierz spinów reprezentująca stan modelu Isinga\n",
    "    '''\n",
    "\n",
    "    spin_up_count = matrix[matrix == 1].sum()\n",
    "    n2 =  (matrix.shape[0])**2\n",
    "    if spin_up_count == 0 or spin_up_count == n2:\n",
    "        energy = (n2)*(n2-1)/2\n",
    "    else:\n",
    "        energy = spin_up_count*(spin_up_count-1)/2 + (n2 - spin_up_count)*(n2 - spin_up_count-1)/2 - (n2 - spin_up_count)*spin_up_count\n",
    "    return energy"
   ]
  },
  {
   "cell_type": "markdown",
   "id": "5uWtkOc5Ftqq",
   "metadata": {
    "id": "5uWtkOc5Ftqq"
   },
   "source": [
    "### **Wykresy porównawcze** - empiryczny i teoretyczny rozkład stacjonarny"
   ]
  },
  {
   "cell_type": "code",
   "execution_count": null,
   "id": "bfc2ad96-8f5f-4047-a935-33136cbc1d65",
   "metadata": {},
   "outputs": [],
   "source": [
    "pi_2 = (1/m) * np.array(pi)\n",
    "pi_theoretical = get_equilibrium_distribution(N = N, beta = beta, graph_type = 'pelny')\n",
    "b, t = min(np.concatenate((pi_2,pi_theoretical))), max(np.concatenate((pi_2,pi_theoretical)))\n",
    "\n",
    "plt.figure(figsize=(16,8))\n",
    "\n",
    "plt.subplot(121)\n",
    "plt.plot(pi_2, '-', color = 'green')\n",
    "plt.title(f'Empiryczny rozkład stacjonarny dla grafu pełnego, N = {N}')\n",
    "plt.ylim(b-0.001,t+0.001)\n",
    "\n",
    "plt.subplot(122)\n",
    "plt.plot(pi_theoretical, '-', color = 'red')\n",
    "plt.title(f'Teoretyczny rozkład stacjonarny dla grafu pełnego,  N = {N}')\n",
    "plt.ylim(b-0.001,t+0.001)\n",
    "\n",
    "plt.suptitle('proba')\n",
    "plt.show()"
   ]
  },
  {
   "cell_type": "code",
   "execution_count": null,
   "id": "f5f26349-7c60-4e3f-8457-8c5d63681fe5",
   "metadata": {},
   "outputs": [],
   "source": []
  }
 ],
 "metadata": {
  "colab": {
   "collapsed_sections": [
    "diB6cB7irrpn",
    "Qhx8-ccnryq2",
    "EpPqQ9DtiLRE",
    "Zxmn08HridT5",
    "D0Y5PmRKixeD",
    "NMO4cwnKmE8u",
    "CmSbEnUBmQHm",
    "f1wGhkHgmYoE",
    "79NuTeLwjXYD",
    "-vTL2UD5mwfl",
    "CA2TEeU-nn6d",
    "ru1m_igerRtM",
    "O_ETUa_7rVvh",
    "D4y9B2-yhsnJ",
    "1UDrPzATESWI",
    "AmE4h6U9Eiur",
    "xLMctxaTEly6",
    "Tnkb6nP_EoRu",
    "jHNPzTs9E6Dp",
    "wdvijjf0FAfk",
    "pudrtKnjFSnX",
    "_IEOjSZ1FU-K",
    "rskl-nWqFYqo",
    "5uWtkOc5Ftqq"
   ],
   "name": "Projekt.ipynb",
   "provenance": []
  },
  "kernelspec": {
   "display_name": "Python 3",
   "language": "python",
   "name": "python3"
  },
  "language_info": {
   "codemirror_mode": {
    "name": "ipython",
    "version": 3
   },
   "file_extension": ".py",
   "mimetype": "text/x-python",
   "name": "python",
   "nbconvert_exporter": "python",
   "pygments_lexer": "ipython3",
   "version": "3.8.8"
  },
  "toc-autonumbering": true
 },
 "nbformat": 4,
 "nbformat_minor": 5
}
