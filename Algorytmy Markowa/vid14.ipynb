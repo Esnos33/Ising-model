{
 "cells": [
  {
   "cell_type": "code",
   "execution_count": 1,
   "id": "2f12f49a-55dd-474d-8798-64ef43934e92",
   "metadata": {},
   "outputs": [],
   "source": [
    "import numpy as np\n",
    "import matplotlib.pyplot as plt\n",
    "import numba\n",
    "from numba import njit\n",
    "from scipy.ndimage import convolve, generate_binary_structure"
   ]
  },
  {
   "cell_type": "markdown",
   "id": "4d9d3ee4-d1a4-4110-b370-8cd2628b606b",
   "metadata": {},
   "source": [
    "# Required Facts\n",
    "\n",
    "A system in thermal equilibrium with a temperature bath. Probability $p_\\mu$ of being in state $\\mu$ with energy $E_\\mu$ is\n",
    "\n",
    " $$p_\\mu = \\frac{1}{Z} e^{-\\beta E_\\mu} $$\n",
    " \n",
    "where $Z = \\sum_\\mu e^{-\\beta E_\\mu}$ is the **partition function**. At equilbrium, the following must be true\n",
    "\n",
    "$$\\sum_\\nu p_\\mu P(\\mu \\to \\nu) = \\sum_\\nu p_\\nu P(\\nu \\to \\mu)$$\n",
    "\n",
    "where $P(\\mu \\to \\nu)$ is the probability of going from state $\\mu$ to $\\nu$. For our numerical methods, this is difficult to enforce, but we can make it be true be setting the **detailed balance condition**\n",
    "\n",
    "$$p_\\mu P(\\mu \\to \\nu) =p_\\nu P(\\nu \\to \\mu)$$\n",
    "\n",
    "<p align=\"center\">\n",
    "  <img src=\"../images/vid14_p1.PNG\" alt=\"drawing\" width=\"400\" align=\"center\"/>\n",
    "</p>\n",
    "\n",
    "\n",
    "# Ising Model\n",
    "\n",
    "<p align=\"center\">\n",
    "  <img src=\"../images/vid14_p2.PNG\" alt=\"drawing\" width=\"300\" align=\"center\"/>\n",
    "</p>\n",
    "\n",
    "The total energy is\n",
    "\n",
    "$$E_\\mu = \\sum_{<i,j>}-J\\sigma_i \\sigma_j $$\n",
    "\n",
    "where $\\sigma_i$ is the spin of a single particle in the lattice (either -1 or 1) and the sum over $<i,j>$ means summing over nearest neighbours for all points in the lattice. $\\mu$ corresponds to a particular configuration of the spins. Now, satisfying detailed balance\n",
    "\n",
    "$$\\frac{P(\\mu \\to \\nu)}{P(\\nu \\to \\mu)} = \\frac{p_\\nu}{p_\\mu} = e^{-\\beta (E_\\nu-E_\\mu)}$$\n",
    "\n",
    "# Metropolis Algorithm\n",
    "\n",
    "**The Idea**: Want to find the equilibrium state $\\mu$ in the magnet at a particular temperature $\\beta$ (how many $\\sigma_i$s are +1 and how many are -1). We'll start with a random lattice of spins, some pointing up and some pointing down, and make it dance around using the equation above until it fixes itself into equilibrium\n",
    "\n",
    "1. Call the current state $\\mu$. \n",
    "2. Pick a random particle on the lattice and flip the spin sign. Call the state $\\nu$. We want to find the probability that $P(\\mu \\to \\nu)$ that we'll accept this new state\n",
    "3. * If $E_\\nu > E_\\mu$ then set $P(\\nu \\to \\mu) = 1$ and thus by the detailed balance equation $P(\\mu \\to \\nu) = e^{-\\beta (E_\\nu-E_\\mu)}$. \n",
    "    * if $E_\\mu > E_\\nu$ then set $P(\\mu \\to \\nu) = 1$. Still satisfies detailed balance!\n",
    "4. Change to state $\\nu$ (i.e. flip the spin of the particle) with the probabilities outlined above. \n",
    "5. Go back to step 1. Repeat the whole thing many many times and eventually you'll force out an equilbrium state. \n",
    "\n",
    "Thus the only thing that needs to be evaluated is $-\\beta(E_\\nu - E_\\mu) = -\\beta J \\sum_{k=1}^4 \\sigma_i \\sigma_k$ where $i$ is the spin being flipped and $\\sigma_k$ are the four nearest neighbours to that spin (two dimensions). On the boundaries, sometimes things might have less than 4 neighbours"
   ]
  },
  {
   "cell_type": "code",
   "execution_count": 7,
   "id": "f85797fa-b02c-42ae-a2de-cbd85771a6b6",
   "metadata": {},
   "outputs": [],
   "source": [
    "# 50 by 50 grid\n",
    "N = 4"
   ]
  },
  {
   "cell_type": "markdown",
   "id": "afb0f743-aab0-4842-a29d-85eea9b2e116",
   "metadata": {},
   "source": [
    "Generate some initial random grids of spins"
   ]
  },
  {
   "cell_type": "code",
   "execution_count": 8,
   "id": "36e1389e-f1cb-4f38-81fc-710884757546",
   "metadata": {},
   "outputs": [],
   "source": [
    "init_random = np.random.random((N,N))\n",
    "lattice_n = np.zeros((N, N))\n",
    "lattice_n[init_random>=0.75] = 1\n",
    "lattice_n[init_random<0.75] = -1\n",
    "\n",
    "init_random = np.random.random((N,N))\n",
    "lattice_p = np.zeros((N, N))\n",
    "lattice_p[init_random>=0.25] = 1\n",
    "lattice_p[init_random<0.25] = -1"
   ]
  },
  {
   "cell_type": "code",
   "execution_count": 9,
   "id": "ec38aa26-f401-474c-a131-b6569d1e2661",
   "metadata": {},
   "outputs": [
    {
     "data": {
      "text/plain": [
       "array([[-1., -1., -1., -1.],\n",
       "       [-1.,  1.,  1., -1.],\n",
       "       [-1.,  1.,  1., -1.],\n",
       "       [-1., -1., -1.,  1.]])"
      ]
     },
     "execution_count": 9,
     "metadata": {},
     "output_type": "execute_result"
    }
   ],
   "source": [
    "lattice_n"
   ]
  },
  {
   "cell_type": "markdown",
   "id": "5fb32b1f-f70a-4378-96a3-c163f35134f0",
   "metadata": {},
   "source": [
    "Show initial lattice of spins"
   ]
  },
  {
   "cell_type": "code",
   "execution_count": 10,
   "id": "73b79f7f-6760-4b82-93cd-4b6db739c04c",
   "metadata": {},
   "outputs": [
    {
     "data": {
      "text/plain": [
       "<matplotlib.image.AxesImage at 0x26e0b2f79d0>"
      ]
     },
     "execution_count": 10,
     "metadata": {},
     "output_type": "execute_result"
    },
    {
     "data": {
      "image/png": "[encoded data removed]",
      "text/plain": [
       "<Figure size 432x288 with 1 Axes>"
      ]
     },
     "metadata": {
      "needs_background": "light"
     },
     "output_type": "display_data"
    }
   ],
   "source": [
    "plt.imshow(lattice_p)"
   ]
  },
  {
   "cell_type": "markdown",
   "id": "b86e2292-e7ae-4aa4-935f-c7c57f2cba66",
   "metadata": {},
   "source": [
    "Function to get the energy $E/J = -\\sum_{<i,j>} \\sigma_i\\sigma_j$"
   ]
  },
  {
   "cell_type": "code",
   "execution_count": 6,
   "id": "0cbd6c37-3efb-46c0-85f5-2aca742f2d63",
   "metadata": {},
   "outputs": [
    {
     "data": {
      "text/plain": [
       "array([[False,  True, False],\n",
       "       [ True,  True,  True],\n",
       "       [False,  True, False]])"
      ]
     },
     "execution_count": 6,
     "metadata": {},
     "output_type": "execute_result"
    }
   ],
   "source": [
    "generate_binary_structure(2, 1) "
   ]
  },
  {
   "cell_type": "code",
   "execution_count": null,
   "id": "215e9884-4a3c-43fe-8bff-d45e2d8ce738",
   "metadata": {},
   "outputs": [],
   "source": [
    "def get_energy(lattice):\n",
    "    # applies the nearest neighbours summation\n",
    "    kern = generate_binary_structure(2, 1) \n",
    "    kern[1][1] = False\n",
    "    arr = -lattice * convolve(lattice, kern, mode='constant', cval=0)\n",
    "    return arr.sum()"
   ]
  },
  {
   "cell_type": "code",
   "execution_count": null,
   "id": "1ef1620a-931a-4769-9bb7-f921f10321b5",
   "metadata": {},
   "outputs": [],
   "source": [
    "get_energy(lattice_p)"
   ]
  },
  {
   "cell_type": "markdown",
   "id": "b1983e40-4bf8-4e6a-b8f6-bb5bc3a0ccf8",
   "metadata": {},
   "source": [
    "**The metropolis algorithm**:\n",
    "\n",
    "* Takes in initial 2d grid of spins, number of time steps to run algoritm for, and temperature $BJ$\n",
    "* Returns the total spin of all the atoms"
   ]
  },
  {
   "cell_type": "code",
   "execution_count": null,
   "id": "a8bc4084-a540-48dc-ae74-3aba6195d49d",
   "metadata": {},
   "outputs": [],
   "source": [
    "@numba.njit(\"UniTuple(f8[:], 2)(f8[:,:], i8, f8, f8)\", nopython=True, nogil=True)\n",
    "def metropolis(spin_arr, times, BJ, energy):\n",
    "    spin_arr = spin_arr.copy()\n",
    "    net_spins = np.zeros(times-1)\n",
    "    net_energy = np.zeros(times-1)\n",
    "    for t in range(0,times-1):\n",
    "        # 2. pick random point on array and flip spin\n",
    "        x = np.random.randint(0,N)\n",
    "        y = np.random.randint(0,N)\n",
    "        spin_i = spin_arr[x,y] #initial spin\n",
    "        spin_f = spin_i*-1 #proposed spin flip\n",
    "        \n",
    "        # compute change in energy\n",
    "        E_i = 0\n",
    "        E_f = 0\n",
    "        if x>0:\n",
    "            E_i += -spin_i*spin_arr[x-1,y]\n",
    "            E_f += -spin_f*spin_arr[x-1,y]\n",
    "        if x<N-1:\n",
    "            E_i += -spin_i*spin_arr[x+1,y]\n",
    "            E_f += -spin_f*spin_arr[x+1,y]\n",
    "        if y>0:\n",
    "            E_i += -spin_i*spin_arr[x,y-1]\n",
    "            E_f += -spin_f*spin_arr[x,y-1]\n",
    "        if y<N-1:\n",
    "            E_i += -spin_i*spin_arr[x,y+1]\n",
    "            E_f += -spin_f*spin_arr[x,y+1]\n",
    "        \n",
    "        # 3 / 4. change state with designated probabilities\n",
    "        dE = E_f-E_i\n",
    "        if (dE>0)*(np.random.random() < np.exp(-BJ*dE)):\n",
    "            spin_arr[x,y]=spin_f\n",
    "            energy += dE\n",
    "        elif dE<=0:\n",
    "            spin_arr[x,y]=spin_f\n",
    "            energy += dE\n",
    "            \n",
    "        net_spins[t] = spin_arr.sum()\n",
    "        net_energy[t] = energy\n",
    "            \n",
    "    return net_spins, net_energy"
   ]
  },
  {
   "cell_type": "markdown",
   "id": "676df89d-78ea-408e-ae32-527850d0bbd8",
   "metadata": {},
   "source": [
    "Get arrays of spins and energies throughout the dance (this is NOT representative of time evolution: its merely a tool used to reach equilibrium)"
   ]
  },
  {
   "cell_type": "code",
   "execution_count": null,
   "id": "c515234c-84cc-4056-b177-f626b3a96f99",
   "metadata": {},
   "outputs": [],
   "source": [
    "spins, energies = metropolis(lattice_n, 1000000, 0.2, get_energy(lattice_n))"
   ]
  },
  {
   "cell_type": "code",
   "execution_count": null,
   "id": "9f2bc351-6602-4d52-98ba-4c6a0cfc50f2",
   "metadata": {},
   "outputs": [],
   "source": [
    "fig, axes = plt.subplots(1, 2, figsize=(12,4))\n",
    "ax = axes[0]\n",
    "ax.plot(spins/N**2)\n",
    "ax.set_xlabel('Algorithm Time Steps')\n",
    "ax.set_ylabel(r'Average Spin $\\bar{m}$')\n",
    "ax.grid()\n",
    "ax = axes[1]\n",
    "ax.plot(energies)\n",
    "ax.set_xlabel('Algorithm Time Steps')\n",
    "ax.set_ylabel(r'Energy $E/J$')\n",
    "ax.grid()\n",
    "fig.tight_layout()\n",
    "fig.suptitle(r'Evolution of Average Spin and Energy for $\\beta J=$0.7', y=1.07, size=18)\n",
    "plt.show()"
   ]
  },
  {
   "cell_type": "markdown",
   "id": "077d52af-98da-4fdd-92b1-dbb942a7d201",
   "metadata": {},
   "source": [
    "We can get $\\bar{m}$ and $E/J$ for many different values of $\\beta J$. The values will be the average of the last 100000 points on the figure above."
   ]
  },
  {
   "cell_type": "code",
   "execution_count": null,
   "id": "60708896-44df-4824-97d2-6b39447935e9",
   "metadata": {},
   "outputs": [],
   "source": [
    "def get_spin_energy(lattice, BJs):\n",
    "    ms = np.zeros(len(BJs))\n",
    "    E_means = np.zeros(len(BJs))\n",
    "    E_stds = np.zeros(len(BJs))\n",
    "    for i, bj in enumerate(BJs):\n",
    "        spins, energies = metropolis(lattice, 1000000, bj, get_energy(lattice))\n",
    "        ms[i] = spins[-100000:].mean()/N**2\n",
    "        E_means[i] = energies[-100000:].mean()\n",
    "        E_stds[i] = energies[-100000:].std()\n",
    "    return ms, E_means, E_stds\n",
    "    \n",
    "BJs = np.arange(0.1, 2, 0.05)\n",
    "ms_n, E_means_n, E_stds_n = get_spin_energy(lattice_n, BJs)\n",
    "ms_p, E_means_p, E_stds_p = get_spin_energy(lattice_p, BJs)"
   ]
  },
  {
   "cell_type": "markdown",
   "id": "f62d1e55-e005-40f0-9d3e-646f4a509191",
   "metadata": {},
   "source": [
    "Can look at $\\bar{m}$ as a function of temperature $T = 1/\\beta k = J/(\\beta J)k$"
   ]
  },
  {
   "cell_type": "code",
   "execution_count": null,
   "id": "b813e278-49a1-49cb-a4b5-fd80837dd9c2",
   "metadata": {},
   "outputs": [],
   "source": [
    "plt.figure(figsize=(8,5))\n",
    "plt.plot(1/BJs, ms_n, 'o--', label='75% of spins started negative')\n",
    "plt.plot(1/BJs, ms_p, 'o--', label='75% of spins started positive')\n",
    "plt.xlabel(r'$\\left(\\frac{k}{J}\\right)T$')\n",
    "plt.ylabel(r'$\\bar{m}$')\n",
    "plt.legend(facecolor='white', framealpha=1)\n",
    "plt.show()"
   ]
  },
  {
   "cell_type": "markdown",
   "id": "e955b163-9c06-4c50-b9db-357bac6e650e",
   "metadata": {},
   "source": [
    "Plot heat capacity as a function of time, using the fact that \n",
    "\n",
    "$$C_V = \\sigma_E^2 / T^2 $$\n",
    "\n",
    "$$= (\\left<E^2\\right>-\\left<E\\right>^2) \\cdot \\beta^{2} k^2$$\n",
    "\n",
    "$$= \\left(\\left<\\left(\\frac{E}{J}\\right)^2\\right>-\\left<\\frac{E}{J}\\right>^2 \\right) \\cdot (\\beta J)^{2} k^2 $$\n",
    "\n",
    "$$= \\sigma_{E/J}^2 \\cdot (\\beta J)^{2} k^2$$"
   ]
  },
  {
   "cell_type": "code",
   "execution_count": null,
   "id": "1b6357a2-ce1c-41ad-94ba-97e29cd9d775",
   "metadata": {},
   "outputs": [],
   "source": [
    "plt.plot(1/BJs, E_stds_n*BJs, label='75% of spins started negative')\n",
    "plt.plot(1/BJs, E_stds_p*BJs, label='75% of spins started positive')\n",
    "plt.xlabel(r'$\\left(\\frac{k}{J}\\right)T$')\n",
    "plt.ylabel(r'$C_V / k^2$')\n",
    "plt.legend()\n",
    "plt.show()"
   ]
  },
  {
   "cell_type": "code",
   "execution_count": null,
   "id": "2e28564d-8a38-4865-8f78-0b64aa26bf66",
   "metadata": {},
   "outputs": [],
   "source": []
  }
 ],
 "metadata": {
  "kernelspec": {
   "display_name": "Python 3",
   "language": "python",
   "name": "python3"
  },
  "language_info": {
   "codemirror_mode": {
    "name": "ipython",
    "version": 3
   },
   "file_extension": ".py",
   "mimetype": "text/x-python",
   "name": "python",
   "nbconvert_exporter": "python",
   "pygments_lexer": "ipython3",
   "version": "3.8.8"
  }
 },
 "nbformat": 4,
 "nbformat_minor": 5
}
